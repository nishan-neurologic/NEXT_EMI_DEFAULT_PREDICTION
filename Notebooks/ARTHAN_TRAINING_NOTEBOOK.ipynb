{
  "nbformat": 4,
  "nbformat_minor": 0,
  "metadata": {
    "colab": {
      "provenance": []
    },
    "kernelspec": {
      "name": "python3",
      "display_name": "Python 3"
    },
    "language_info": {
      "name": "python"
    },
    "accelerator": "GPU",
    "gpuClass": "standard"
  },
  "cells": [
    {
      "cell_type": "code",
      "source": [
        "import pandas as pd\n",
        "import numpy as np\n",
        "import seaborn as sns\n",
        "from glob import glob\n",
        "import os"
      ],
      "metadata": {
        "id": "_ai5Fq2f1VnX"
      },
      "execution_count": null,
      "outputs": []
    },
    {
      "cell_type": "code",
      "source": [
        "from google.colab import drive\n",
        "drive.mount('/content/drive')"
      ],
      "metadata": {
        "id": "J-Td5yIbxUhy",
        "colab": {
          "base_uri": "https://localhost:8080/"
        },
        "outputId": "14980447-e603-462d-ac2e-5a36ab18c6e5"
      },
      "execution_count": null,
      "outputs": [
        {
          "output_type": "stream",
          "name": "stdout",
          "text": [
            "Mounted at /content/drive\n"
          ]
        }
      ]
    },
    {
      "cell_type": "code",
      "source": [
        "# datapath='/content/drive/MyDrive/AI Consulting/ARTHAN/datasets'\n",
        "datapath=\"/content/drive/MyDrive/ARTHAN/datasets\"\n",
        "datasets_addresses=glob(os.path.join(datapath,'*.csv'))\n",
        "datasets_addresses"
      ],
      "metadata": {
        "id": "EoFUteorZLeP",
        "colab": {
          "base_uri": "https://localhost:8080/"
        },
        "outputId": "9397d382-08f9-43a0-b5ea-19439cc677a5"
      },
      "execution_count": null,
      "outputs": [
        {
          "output_type": "execute_result",
          "data": {
            "text/plain": [
              "['/content/drive/MyDrive/ARTHAN/datasets/datasetsloan_od_products.csv',\n",
              " '/content/drive/MyDrive/ARTHAN/datasets/datasetsbranches.csv',\n",
              " '/content/drive/MyDrive/ARTHAN/datasets/datasetscustomers.csv',\n",
              " '/content/drive/MyDrive/ARTHAN/datasets/datasetscustomer_limits.csv',\n",
              " '/content/drive/MyDrive/ARTHAN/datasets/datasetsaccount_balances.csv',\n",
              " '/content/drive/MyDrive/ARTHAN/datasets/datasetsaccount_profiles.csv',\n",
              " '/content/drive/MyDrive/ARTHAN/datasets/datasetsaccount_holders.csv',\n",
              " '/content/drive/MyDrive/ARTHAN/datasets/datasetsloan_od_disbursements.csv',\n",
              " '/content/drive/MyDrive/ARTHAN/datasets/datasetsloan_od_working_registers.csv',\n",
              " '/content/drive/MyDrive/ARTHAN/datasets/datasetsloan_od_repayments.csv',\n",
              " '/content/drive/MyDrive/ARTHAN/datasets/datasetsloan_od_write_offs.csv',\n",
              " '/content/drive/MyDrive/ARTHAN/datasets/datasetsfees.csv',\n",
              " '/content/drive/MyDrive/ARTHAN/datasets/datasetsfee_payments.csv',\n",
              " '/content/drive/MyDrive/ARTHAN/datasets/datasetsgeneral_transactions.csv',\n",
              " '/content/drive/MyDrive/ARTHAN/datasets/datasetsloan_od_demands.csv',\n",
              " '/content/drive/MyDrive/ARTHAN/datasets/datasetsloan_od_associates.csv',\n",
              " '/content/drive/MyDrive/ARTHAN/datasets/datasetsloan_od_account_view.csv',\n",
              " '/content/drive/MyDrive/ARTHAN/datasets/datasetsloan_od_fulfillments.csv',\n",
              " '/content/drive/MyDrive/ARTHAN/datasets/datasetsloan_od_repayment_schedule_items.csv',\n",
              " '/content/drive/MyDrive/ARTHAN/datasets/datasetsloan_od_profiles.csv']"
            ]
          },
          "metadata": {},
          "execution_count": 3
        }
      ]
    },
    {
      "cell_type": "code",
      "source": [
        "products=pd.read_csv(f'{datapath}/datasetsloan_od_products.csv')\n",
        "ap=pd.read_csv(f'{datapath}/datasetsaccount_profiles.csv')\n",
        "branches=pd.read_csv(f'{datapath}/datasetsbranches.csv')\n",
        "branches=branches[['BRANCH_CODE','BRANCH_NAME','IS_HQ']]\n",
        "ap2=pd.merge(ap,branches,on=['BRANCH_CODE'],how='left')[['ACCOUNT_ID','BRANCH_CODE','PRODUCT_TYPE','PRODUCT_CODE','BRANCH_NAME','IS_HQ']]\n",
        "lof=pd.read_csv(f'{datapath}/datasetsloan_od_fulfillments.csv')\n",
        "lor=pd.read_csv(f'{datapath}/datasetsloan_od_repayments.csv')\n",
        "\n",
        "cols_imp=['ACCOUNT_ID', 'REPAYMENT_NUM',\n",
        "       'REPAYMENT_TYPE', 'AMOUNT_MAGNITUDE','BALANCE_MAGNITUDE','PRINCIPAL_MAGNITUDE','NORMAL_INTEREST_MAGNITUDE',\n",
        "       'PENAL_INTEREST_MAGNITUDE',\n",
        "       'PRINCIPAL_ADJUSTMENT_MAGNITUDE',\n",
        "       'NORMAL_INTEREST_ADJUSTMENT_MAGNITUDE',\n",
        "       'PENAL_INTEREST_ADJUSTMENT_MAGNITUDE',\n",
        "       'NORMAL_INTEREST_WAIVER_MAGNITUDE',\n",
        "       'PENAL_INTEREST_WAIVER_MAGNITUDE',\n",
        "       'INTEREST_TDS_MAGNITUDE',\n",
        "       'NORMAL_INTEREST_TDS_MAGNITUDE', \n",
        "       'PENAL_INTEREST_TDS_MAGNITUDE', \n",
        "       'LAST_SATISFIED_DEMAND_NUM', 'TRANSACTION_ID', 'VALUE_DATE',\n",
        "       'TRANSACTION_DATE', 'INSTRUMENT', 'OLD_DPD', 'DPD', 'USER_ID']\n",
        "lor2=lor[cols_imp]\n",
        "merged=pd.merge(lor2,ap2,on=['ACCOUNT_ID'],how='left')\n",
        "merged=merged.fillna('Blank')\n",
        "merged['IS_HQ']=merged['IS_HQ'].astype('str')\n",
        "merged['TRANSACTION_DATE']=pd.to_datetime(merged['TRANSACTION_DATE'])\n",
        "merged['VALUE_DATE']=pd.to_datetime(merged['VALUE_DATE'])\n",
        "merged['Default']=(merged['TRANSACTION_DATE']-merged['VALUE_DATE']).dt.days>1\n",
        "merged"
      ],
      "metadata": {
        "id": "uADKrRNQZVEb",
        "colab": {
          "base_uri": "https://localhost:8080/",
          "height": 645
        },
        "outputId": "95365b9a-8ee9-43c0-dc3f-71f7c2af60c9"
      },
      "execution_count": null,
      "outputs": [
        {
          "output_type": "stream",
          "name": "stderr",
          "text": [
            "<ipython-input-4-edba7070474f>:2: DtypeWarning: Columns (4) have mixed types. Specify dtype option on import or set low_memory=False.\n",
            "  ap=pd.read_csv(f'{datapath}/datasetsaccount_profiles.csv')\n",
            "<ipython-input-4-edba7070474f>:7: DtypeWarning: Columns (53) have mixed types. Specify dtype option on import or set low_memory=False.\n",
            "  lor=pd.read_csv(f'{datapath}/datasetsloan_od_repayments.csv')\n"
          ]
        },
        {
          "output_type": "execute_result",
          "data": {
            "text/plain": [
              "          ACCOUNT_ID  REPAYMENT_NUM  REPAYMENT_TYPE  AMOUNT_MAGNITUDE  \\\n",
              "0       101000000030              1               0            1311.0   \n",
              "1       201000000002              1               0            4603.0   \n",
              "2       101000000001              1               0            2055.0   \n",
              "3       201000000030              1               0             984.0   \n",
              "4       101000000030              2               0           13041.0   \n",
              "...              ...            ...             ...               ...   \n",
              "763976   30160400513             70               0             830.0   \n",
              "763977   30160400528             69               0             207.0   \n",
              "763978   30160400545             55               0            1382.0   \n",
              "763979   30160400547             56               0              99.0   \n",
              "763980   30160400549             43               0             138.0   \n",
              "\n",
              "        BALANCE_MAGNITUDE  PRINCIPAL_MAGNITUDE  NORMAL_INTEREST_MAGNITUDE  \\\n",
              "0               400000.00                 0.00                    1311.00   \n",
              "1               700000.00                 0.00                    4603.00   \n",
              "2               500000.00                 0.00                    2055.00   \n",
              "3               300000.00                 0.00                     984.00   \n",
              "4               395090.00              4910.00                    8131.00   \n",
              "...                   ...                  ...                        ...   \n",
              "763976            2436.66               823.04                       6.96   \n",
              "763977             671.07               205.12                       1.88   \n",
              "763978            4208.94              1370.08                      11.92   \n",
              "763979           19875.83                56.40                      42.60   \n",
              "763980             463.93               136.72                       1.28   \n",
              "\n",
              "        PENAL_INTEREST_MAGNITUDE  PRINCIPAL_ADJUSTMENT_MAGNITUDE  \\\n",
              "0                            0.0                             0.0   \n",
              "1                            0.0                             0.0   \n",
              "2                            0.0                             0.0   \n",
              "3                            0.0                             0.0   \n",
              "4                            0.0                             0.0   \n",
              "...                          ...                             ...   \n",
              "763976                       0.0                             0.0   \n",
              "763977                       0.0                             0.0   \n",
              "763978                       0.0                             0.0   \n",
              "763979                       0.0                             0.0   \n",
              "763980                       0.0                             0.0   \n",
              "\n",
              "        NORMAL_INTEREST_ADJUSTMENT_MAGNITUDE  ...  INSTRUMENT  OLD_DPD  DPD  \\\n",
              "0                                        0.0  ...           1        0    0   \n",
              "1                                        0.0  ...           1        0    0   \n",
              "2                                        0.0  ...           1        0    0   \n",
              "3                                        0.0  ...           1        0    0   \n",
              "4                                        0.0  ...           3        0    0   \n",
              "...                                      ...  ...         ...      ...  ...   \n",
              "763976                                   0.0  ...          15        0    0   \n",
              "763977                                   0.0  ...          15        0    0   \n",
              "763978                                   0.0  ...          15        0    0   \n",
              "763979                                   0.0  ...          15        0    0   \n",
              "763980                                   0.0  ...          15        0    0   \n",
              "\n",
              "                  USER_ID  BRANCH_CODE  PRODUCT_TYPE  PRODUCT_CODE  \\\n",
              "0                   Admin        Blank         Blank         Blank   \n",
              "1                   Admin        Blank         Blank         Blank   \n",
              "2                   Admin        Blank         Blank         Blank   \n",
              "3                   Admin        Blank         Blank         Blank   \n",
              "4                   Admin        Blank         Blank         Blank   \n",
              "...                   ...          ...           ...           ...   \n",
              "763976  AutoRepayOnDemand          301         Loans           604   \n",
              "763977  AutoRepayOnDemand          301         Loans           604   \n",
              "763978  AutoRepayOnDemand          301         Loans           604   \n",
              "763979  AutoRepayOnDemand          301         Loans           604   \n",
              "763980  AutoRepayOnDemand          301         Loans           604   \n",
              "\n",
              "                    BRANCH_NAME  IS_HQ Default  \n",
              "0                         Blank  Blank    True  \n",
              "1                         Blank  Blank    True  \n",
              "2                         Blank  Blank    True  \n",
              "3                         Blank  Blank    True  \n",
              "4                         Blank  Blank    True  \n",
              "...                         ...    ...     ...  \n",
              "763976  RO Odisha - Bhubaneswar    0.0   False  \n",
              "763977  RO Odisha - Bhubaneswar    0.0   False  \n",
              "763978  RO Odisha - Bhubaneswar    0.0   False  \n",
              "763979  RO Odisha - Bhubaneswar    0.0   False  \n",
              "763980  RO Odisha - Bhubaneswar    0.0   False  \n",
              "\n",
              "[763981 rows x 30 columns]"
            ],
            "text/html": [
              "\n",
              "  <div id=\"df-f5ebded4-a293-4f22-98e2-e008d9386245\">\n",
              "    <div class=\"colab-df-container\">\n",
              "      <div>\n",
              "<style scoped>\n",
              "    .dataframe tbody tr th:only-of-type {\n",
              "        vertical-align: middle;\n",
              "    }\n",
              "\n",
              "    .dataframe tbody tr th {\n",
              "        vertical-align: top;\n",
              "    }\n",
              "\n",
              "    .dataframe thead th {\n",
              "        text-align: right;\n",
              "    }\n",
              "</style>\n",
              "<table border=\"1\" class=\"dataframe\">\n",
              "  <thead>\n",
              "    <tr style=\"text-align: right;\">\n",
              "      <th></th>\n",
              "      <th>ACCOUNT_ID</th>\n",
              "      <th>REPAYMENT_NUM</th>\n",
              "      <th>REPAYMENT_TYPE</th>\n",
              "      <th>AMOUNT_MAGNITUDE</th>\n",
              "      <th>BALANCE_MAGNITUDE</th>\n",
              "      <th>PRINCIPAL_MAGNITUDE</th>\n",
              "      <th>NORMAL_INTEREST_MAGNITUDE</th>\n",
              "      <th>PENAL_INTEREST_MAGNITUDE</th>\n",
              "      <th>PRINCIPAL_ADJUSTMENT_MAGNITUDE</th>\n",
              "      <th>NORMAL_INTEREST_ADJUSTMENT_MAGNITUDE</th>\n",
              "      <th>...</th>\n",
              "      <th>INSTRUMENT</th>\n",
              "      <th>OLD_DPD</th>\n",
              "      <th>DPD</th>\n",
              "      <th>USER_ID</th>\n",
              "      <th>BRANCH_CODE</th>\n",
              "      <th>PRODUCT_TYPE</th>\n",
              "      <th>PRODUCT_CODE</th>\n",
              "      <th>BRANCH_NAME</th>\n",
              "      <th>IS_HQ</th>\n",
              "      <th>Default</th>\n",
              "    </tr>\n",
              "  </thead>\n",
              "  <tbody>\n",
              "    <tr>\n",
              "      <th>0</th>\n",
              "      <td>101000000030</td>\n",
              "      <td>1</td>\n",
              "      <td>0</td>\n",
              "      <td>1311.0</td>\n",
              "      <td>400000.00</td>\n",
              "      <td>0.00</td>\n",
              "      <td>1311.00</td>\n",
              "      <td>0.0</td>\n",
              "      <td>0.0</td>\n",
              "      <td>0.0</td>\n",
              "      <td>...</td>\n",
              "      <td>1</td>\n",
              "      <td>0</td>\n",
              "      <td>0</td>\n",
              "      <td>Admin</td>\n",
              "      <td>Blank</td>\n",
              "      <td>Blank</td>\n",
              "      <td>Blank</td>\n",
              "      <td>Blank</td>\n",
              "      <td>Blank</td>\n",
              "      <td>True</td>\n",
              "    </tr>\n",
              "    <tr>\n",
              "      <th>1</th>\n",
              "      <td>201000000002</td>\n",
              "      <td>1</td>\n",
              "      <td>0</td>\n",
              "      <td>4603.0</td>\n",
              "      <td>700000.00</td>\n",
              "      <td>0.00</td>\n",
              "      <td>4603.00</td>\n",
              "      <td>0.0</td>\n",
              "      <td>0.0</td>\n",
              "      <td>0.0</td>\n",
              "      <td>...</td>\n",
              "      <td>1</td>\n",
              "      <td>0</td>\n",
              "      <td>0</td>\n",
              "      <td>Admin</td>\n",
              "      <td>Blank</td>\n",
              "      <td>Blank</td>\n",
              "      <td>Blank</td>\n",
              "      <td>Blank</td>\n",
              "      <td>Blank</td>\n",
              "      <td>True</td>\n",
              "    </tr>\n",
              "    <tr>\n",
              "      <th>2</th>\n",
              "      <td>101000000001</td>\n",
              "      <td>1</td>\n",
              "      <td>0</td>\n",
              "      <td>2055.0</td>\n",
              "      <td>500000.00</td>\n",
              "      <td>0.00</td>\n",
              "      <td>2055.00</td>\n",
              "      <td>0.0</td>\n",
              "      <td>0.0</td>\n",
              "      <td>0.0</td>\n",
              "      <td>...</td>\n",
              "      <td>1</td>\n",
              "      <td>0</td>\n",
              "      <td>0</td>\n",
              "      <td>Admin</td>\n",
              "      <td>Blank</td>\n",
              "      <td>Blank</td>\n",
              "      <td>Blank</td>\n",
              "      <td>Blank</td>\n",
              "      <td>Blank</td>\n",
              "      <td>True</td>\n",
              "    </tr>\n",
              "    <tr>\n",
              "      <th>3</th>\n",
              "      <td>201000000030</td>\n",
              "      <td>1</td>\n",
              "      <td>0</td>\n",
              "      <td>984.0</td>\n",
              "      <td>300000.00</td>\n",
              "      <td>0.00</td>\n",
              "      <td>984.00</td>\n",
              "      <td>0.0</td>\n",
              "      <td>0.0</td>\n",
              "      <td>0.0</td>\n",
              "      <td>...</td>\n",
              "      <td>1</td>\n",
              "      <td>0</td>\n",
              "      <td>0</td>\n",
              "      <td>Admin</td>\n",
              "      <td>Blank</td>\n",
              "      <td>Blank</td>\n",
              "      <td>Blank</td>\n",
              "      <td>Blank</td>\n",
              "      <td>Blank</td>\n",
              "      <td>True</td>\n",
              "    </tr>\n",
              "    <tr>\n",
              "      <th>4</th>\n",
              "      <td>101000000030</td>\n",
              "      <td>2</td>\n",
              "      <td>0</td>\n",
              "      <td>13041.0</td>\n",
              "      <td>395090.00</td>\n",
              "      <td>4910.00</td>\n",
              "      <td>8131.00</td>\n",
              "      <td>0.0</td>\n",
              "      <td>0.0</td>\n",
              "      <td>0.0</td>\n",
              "      <td>...</td>\n",
              "      <td>3</td>\n",
              "      <td>0</td>\n",
              "      <td>0</td>\n",
              "      <td>Admin</td>\n",
              "      <td>Blank</td>\n",
              "      <td>Blank</td>\n",
              "      <td>Blank</td>\n",
              "      <td>Blank</td>\n",
              "      <td>Blank</td>\n",
              "      <td>True</td>\n",
              "    </tr>\n",
              "    <tr>\n",
              "      <th>...</th>\n",
              "      <td>...</td>\n",
              "      <td>...</td>\n",
              "      <td>...</td>\n",
              "      <td>...</td>\n",
              "      <td>...</td>\n",
              "      <td>...</td>\n",
              "      <td>...</td>\n",
              "      <td>...</td>\n",
              "      <td>...</td>\n",
              "      <td>...</td>\n",
              "      <td>...</td>\n",
              "      <td>...</td>\n",
              "      <td>...</td>\n",
              "      <td>...</td>\n",
              "      <td>...</td>\n",
              "      <td>...</td>\n",
              "      <td>...</td>\n",
              "      <td>...</td>\n",
              "      <td>...</td>\n",
              "      <td>...</td>\n",
              "      <td>...</td>\n",
              "    </tr>\n",
              "    <tr>\n",
              "      <th>763976</th>\n",
              "      <td>30160400513</td>\n",
              "      <td>70</td>\n",
              "      <td>0</td>\n",
              "      <td>830.0</td>\n",
              "      <td>2436.66</td>\n",
              "      <td>823.04</td>\n",
              "      <td>6.96</td>\n",
              "      <td>0.0</td>\n",
              "      <td>0.0</td>\n",
              "      <td>0.0</td>\n",
              "      <td>...</td>\n",
              "      <td>15</td>\n",
              "      <td>0</td>\n",
              "      <td>0</td>\n",
              "      <td>AutoRepayOnDemand</td>\n",
              "      <td>301</td>\n",
              "      <td>Loans</td>\n",
              "      <td>604</td>\n",
              "      <td>RO Odisha - Bhubaneswar</td>\n",
              "      <td>0.0</td>\n",
              "      <td>False</td>\n",
              "    </tr>\n",
              "    <tr>\n",
              "      <th>763977</th>\n",
              "      <td>30160400528</td>\n",
              "      <td>69</td>\n",
              "      <td>0</td>\n",
              "      <td>207.0</td>\n",
              "      <td>671.07</td>\n",
              "      <td>205.12</td>\n",
              "      <td>1.88</td>\n",
              "      <td>0.0</td>\n",
              "      <td>0.0</td>\n",
              "      <td>0.0</td>\n",
              "      <td>...</td>\n",
              "      <td>15</td>\n",
              "      <td>0</td>\n",
              "      <td>0</td>\n",
              "      <td>AutoRepayOnDemand</td>\n",
              "      <td>301</td>\n",
              "      <td>Loans</td>\n",
              "      <td>604</td>\n",
              "      <td>RO Odisha - Bhubaneswar</td>\n",
              "      <td>0.0</td>\n",
              "      <td>False</td>\n",
              "    </tr>\n",
              "    <tr>\n",
              "      <th>763978</th>\n",
              "      <td>30160400545</td>\n",
              "      <td>55</td>\n",
              "      <td>0</td>\n",
              "      <td>1382.0</td>\n",
              "      <td>4208.94</td>\n",
              "      <td>1370.08</td>\n",
              "      <td>11.92</td>\n",
              "      <td>0.0</td>\n",
              "      <td>0.0</td>\n",
              "      <td>0.0</td>\n",
              "      <td>...</td>\n",
              "      <td>15</td>\n",
              "      <td>0</td>\n",
              "      <td>0</td>\n",
              "      <td>AutoRepayOnDemand</td>\n",
              "      <td>301</td>\n",
              "      <td>Loans</td>\n",
              "      <td>604</td>\n",
              "      <td>RO Odisha - Bhubaneswar</td>\n",
              "      <td>0.0</td>\n",
              "      <td>False</td>\n",
              "    </tr>\n",
              "    <tr>\n",
              "      <th>763979</th>\n",
              "      <td>30160400547</td>\n",
              "      <td>56</td>\n",
              "      <td>0</td>\n",
              "      <td>99.0</td>\n",
              "      <td>19875.83</td>\n",
              "      <td>56.40</td>\n",
              "      <td>42.60</td>\n",
              "      <td>0.0</td>\n",
              "      <td>0.0</td>\n",
              "      <td>0.0</td>\n",
              "      <td>...</td>\n",
              "      <td>15</td>\n",
              "      <td>0</td>\n",
              "      <td>0</td>\n",
              "      <td>AutoRepayOnDemand</td>\n",
              "      <td>301</td>\n",
              "      <td>Loans</td>\n",
              "      <td>604</td>\n",
              "      <td>RO Odisha - Bhubaneswar</td>\n",
              "      <td>0.0</td>\n",
              "      <td>False</td>\n",
              "    </tr>\n",
              "    <tr>\n",
              "      <th>763980</th>\n",
              "      <td>30160400549</td>\n",
              "      <td>43</td>\n",
              "      <td>0</td>\n",
              "      <td>138.0</td>\n",
              "      <td>463.93</td>\n",
              "      <td>136.72</td>\n",
              "      <td>1.28</td>\n",
              "      <td>0.0</td>\n",
              "      <td>0.0</td>\n",
              "      <td>0.0</td>\n",
              "      <td>...</td>\n",
              "      <td>15</td>\n",
              "      <td>0</td>\n",
              "      <td>0</td>\n",
              "      <td>AutoRepayOnDemand</td>\n",
              "      <td>301</td>\n",
              "      <td>Loans</td>\n",
              "      <td>604</td>\n",
              "      <td>RO Odisha - Bhubaneswar</td>\n",
              "      <td>0.0</td>\n",
              "      <td>False</td>\n",
              "    </tr>\n",
              "  </tbody>\n",
              "</table>\n",
              "<p>763981 rows × 30 columns</p>\n",
              "</div>\n",
              "      <button class=\"colab-df-convert\" onclick=\"convertToInteractive('df-f5ebded4-a293-4f22-98e2-e008d9386245')\"\n",
              "              title=\"Convert this dataframe to an interactive table.\"\n",
              "              style=\"display:none;\">\n",
              "        \n",
              "  <svg xmlns=\"http://www.w3.org/2000/svg\" height=\"24px\"viewBox=\"0 0 24 24\"\n",
              "       width=\"24px\">\n",
              "    <path d=\"M0 0h24v24H0V0z\" fill=\"none\"/>\n",
              "    <path d=\"M18.56 5.44l.94 2.06.94-2.06 2.06-.94-2.06-.94-.94-2.06-.94 2.06-2.06.94zm-11 1L8.5 8.5l.94-2.06 2.06-.94-2.06-.94L8.5 2.5l-.94 2.06-2.06.94zm10 10l.94 2.06.94-2.06 2.06-.94-2.06-.94-.94-2.06-.94 2.06-2.06.94z\"/><path d=\"M17.41 7.96l-1.37-1.37c-.4-.4-.92-.59-1.43-.59-.52 0-1.04.2-1.43.59L10.3 9.45l-7.72 7.72c-.78.78-.78 2.05 0 2.83L4 21.41c.39.39.9.59 1.41.59.51 0 1.02-.2 1.41-.59l7.78-7.78 2.81-2.81c.8-.78.8-2.07 0-2.86zM5.41 20L4 18.59l7.72-7.72 1.47 1.35L5.41 20z\"/>\n",
              "  </svg>\n",
              "      </button>\n",
              "      \n",
              "  <style>\n",
              "    .colab-df-container {\n",
              "      display:flex;\n",
              "      flex-wrap:wrap;\n",
              "      gap: 12px;\n",
              "    }\n",
              "\n",
              "    .colab-df-convert {\n",
              "      background-color: #E8F0FE;\n",
              "      border: none;\n",
              "      border-radius: 50%;\n",
              "      cursor: pointer;\n",
              "      display: none;\n",
              "      fill: #1967D2;\n",
              "      height: 32px;\n",
              "      padding: 0 0 0 0;\n",
              "      width: 32px;\n",
              "    }\n",
              "\n",
              "    .colab-df-convert:hover {\n",
              "      background-color: #E2EBFA;\n",
              "      box-shadow: 0px 1px 2px rgba(60, 64, 67, 0.3), 0px 1px 3px 1px rgba(60, 64, 67, 0.15);\n",
              "      fill: #174EA6;\n",
              "    }\n",
              "\n",
              "    [theme=dark] .colab-df-convert {\n",
              "      background-color: #3B4455;\n",
              "      fill: #D2E3FC;\n",
              "    }\n",
              "\n",
              "    [theme=dark] .colab-df-convert:hover {\n",
              "      background-color: #434B5C;\n",
              "      box-shadow: 0px 1px 3px 1px rgba(0, 0, 0, 0.15);\n",
              "      filter: drop-shadow(0px 1px 2px rgba(0, 0, 0, 0.3));\n",
              "      fill: #FFFFFF;\n",
              "    }\n",
              "  </style>\n",
              "\n",
              "      <script>\n",
              "        const buttonEl =\n",
              "          document.querySelector('#df-f5ebded4-a293-4f22-98e2-e008d9386245 button.colab-df-convert');\n",
              "        buttonEl.style.display =\n",
              "          google.colab.kernel.accessAllowed ? 'block' : 'none';\n",
              "\n",
              "        async function convertToInteractive(key) {\n",
              "          const element = document.querySelector('#df-f5ebded4-a293-4f22-98e2-e008d9386245');\n",
              "          const dataTable =\n",
              "            await google.colab.kernel.invokeFunction('convertToInteractive',\n",
              "                                                     [key], {});\n",
              "          if (!dataTable) return;\n",
              "\n",
              "          const docLinkHtml = 'Like what you see? Visit the ' +\n",
              "            '<a target=\"_blank\" href=https://colab.research.google.com/notebooks/data_table.ipynb>data table notebook</a>'\n",
              "            + ' to learn more about interactive tables.';\n",
              "          element.innerHTML = '';\n",
              "          dataTable['output_type'] = 'display_data';\n",
              "          await google.colab.output.renderOutput(dataTable, element);\n",
              "          const docLink = document.createElement('div');\n",
              "          docLink.innerHTML = docLinkHtml;\n",
              "          element.appendChild(docLink);\n",
              "        }\n",
              "      </script>\n",
              "    </div>\n",
              "  </div>\n",
              "  "
            ]
          },
          "metadata": {},
          "execution_count": 4
        }
      ]
    },
    {
      "cell_type": "code",
      "source": [
        "merged.info()"
      ],
      "metadata": {
        "colab": {
          "base_uri": "https://localhost:8080/"
        },
        "id": "aqkuDV22ZxwV",
        "outputId": "ed9f428a-9be4-43af-c26c-a796a53214dd"
      },
      "execution_count": null,
      "outputs": [
        {
          "output_type": "stream",
          "name": "stdout",
          "text": [
            "<class 'pandas.core.frame.DataFrame'>\n",
            "Int64Index: 763981 entries, 0 to 763980\n",
            "Data columns (total 30 columns):\n",
            " #   Column                                Non-Null Count   Dtype         \n",
            "---  ------                                --------------   -----         \n",
            " 0   ACCOUNT_ID                            763981 non-null  int64         \n",
            " 1   REPAYMENT_NUM                         763981 non-null  int64         \n",
            " 2   REPAYMENT_TYPE                        763981 non-null  int64         \n",
            " 3   AMOUNT_MAGNITUDE                      763981 non-null  float64       \n",
            " 4   BALANCE_MAGNITUDE                     763981 non-null  float64       \n",
            " 5   PRINCIPAL_MAGNITUDE                   763981 non-null  float64       \n",
            " 6   NORMAL_INTEREST_MAGNITUDE             763981 non-null  float64       \n",
            " 7   PENAL_INTEREST_MAGNITUDE              763981 non-null  float64       \n",
            " 8   PRINCIPAL_ADJUSTMENT_MAGNITUDE        763981 non-null  float64       \n",
            " 9   NORMAL_INTEREST_ADJUSTMENT_MAGNITUDE  763981 non-null  float64       \n",
            " 10  PENAL_INTEREST_ADJUSTMENT_MAGNITUDE   763981 non-null  float64       \n",
            " 11  NORMAL_INTEREST_WAIVER_MAGNITUDE      763981 non-null  float64       \n",
            " 12  PENAL_INTEREST_WAIVER_MAGNITUDE       763981 non-null  float64       \n",
            " 13  INTEREST_TDS_MAGNITUDE                763981 non-null  float64       \n",
            " 14  NORMAL_INTEREST_TDS_MAGNITUDE         763981 non-null  float64       \n",
            " 15  PENAL_INTEREST_TDS_MAGNITUDE          763981 non-null  float64       \n",
            " 16  LAST_SATISFIED_DEMAND_NUM             763981 non-null  int64         \n",
            " 17  TRANSACTION_ID                        763981 non-null  object        \n",
            " 18  VALUE_DATE                            763981 non-null  datetime64[ns]\n",
            " 19  TRANSACTION_DATE                      763981 non-null  datetime64[ns]\n",
            " 20  INSTRUMENT                            763981 non-null  int64         \n",
            " 21  OLD_DPD                               763981 non-null  int64         \n",
            " 22  DPD                                   763981 non-null  int64         \n",
            " 23  USER_ID                               763981 non-null  object        \n",
            " 24  BRANCH_CODE                           763981 non-null  object        \n",
            " 25  PRODUCT_TYPE                          763981 non-null  object        \n",
            " 26  PRODUCT_CODE                          763981 non-null  object        \n",
            " 27  BRANCH_NAME                           763981 non-null  object        \n",
            " 28  IS_HQ                                 763981 non-null  object        \n",
            " 29  Default                               763981 non-null  bool          \n",
            "dtypes: bool(1), datetime64[ns](2), float64(13), int64(7), object(7)\n",
            "memory usage: 175.6+ MB\n"
          ]
        }
      ]
    },
    {
      "cell_type": "code",
      "source": [
        "# merged.to_csv('/content/drive/MyDrive/AI Consulting/ARTHAN/datasets_updated' + \"/Data_ready.csv\")"
      ],
      "metadata": {
        "id": "66P56i1eq4Ge"
      },
      "execution_count": null,
      "outputs": []
    },
    {
      "cell_type": "code",
      "source": [
        "!pip3 install category_encoders "
      ],
      "metadata": {
        "id": "pBAuDouy9U9m",
        "colab": {
          "base_uri": "https://localhost:8080/"
        },
        "outputId": "e214cdec-7385-4c3f-b9c0-eadc1095d165"
      },
      "execution_count": null,
      "outputs": [
        {
          "output_type": "stream",
          "name": "stdout",
          "text": [
            "Looking in indexes: https://pypi.org/simple, https://us-python.pkg.dev/colab-wheels/public/simple/\n",
            "Collecting category_encoders\n",
            "  Downloading category_encoders-2.6.0-py2.py3-none-any.whl (81 kB)\n",
            "\u001b[2K     \u001b[90m━━━━━━━━━━━━━━━━━━━━━━━━━━━━━━━━━━━━━━━━\u001b[0m \u001b[32m81.2/81.2 KB\u001b[0m \u001b[31m7.2 MB/s\u001b[0m eta \u001b[36m0:00:00\u001b[0m\n",
            "\u001b[?25hRequirement already satisfied: statsmodels>=0.9.0 in /usr/local/lib/python3.9/dist-packages (from category_encoders) (0.13.5)\n",
            "Requirement already satisfied: pandas>=1.0.5 in /usr/local/lib/python3.9/dist-packages (from category_encoders) (1.4.4)\n",
            "Requirement already satisfied: scikit-learn>=0.20.0 in /usr/local/lib/python3.9/dist-packages (from category_encoders) (1.2.2)\n",
            "Requirement already satisfied: patsy>=0.5.1 in /usr/local/lib/python3.9/dist-packages (from category_encoders) (0.5.3)\n",
            "Requirement already satisfied: numpy>=1.14.0 in /usr/local/lib/python3.9/dist-packages (from category_encoders) (1.22.4)\n",
            "Requirement already satisfied: scipy>=1.0.0 in /usr/local/lib/python3.9/dist-packages (from category_encoders) (1.10.1)\n",
            "Requirement already satisfied: pytz>=2020.1 in /usr/local/lib/python3.9/dist-packages (from pandas>=1.0.5->category_encoders) (2022.7.1)\n",
            "Requirement already satisfied: python-dateutil>=2.8.1 in /usr/local/lib/python3.9/dist-packages (from pandas>=1.0.5->category_encoders) (2.8.2)\n",
            "Requirement already satisfied: six in /usr/local/lib/python3.9/dist-packages (from patsy>=0.5.1->category_encoders) (1.16.0)\n",
            "Requirement already satisfied: joblib>=1.1.1 in /usr/local/lib/python3.9/dist-packages (from scikit-learn>=0.20.0->category_encoders) (1.1.1)\n",
            "Requirement already satisfied: threadpoolctl>=2.0.0 in /usr/local/lib/python3.9/dist-packages (from scikit-learn>=0.20.0->category_encoders) (3.1.0)\n",
            "Requirement already satisfied: packaging>=21.3 in /usr/local/lib/python3.9/dist-packages (from statsmodels>=0.9.0->category_encoders) (23.0)\n",
            "Installing collected packages: category_encoders\n",
            "Successfully installed category_encoders-2.6.0\n"
          ]
        }
      ]
    },
    {
      "cell_type": "code",
      "source": [
        "from tensorflow.keras.preprocessing.sequence import pad_sequences\n",
        "from sklearn.model_selection import train_test_split\n",
        "from category_encoders import CatBoostEncoder\n",
        "import pandas as pd\n",
        "\n",
        "import numpy as np\n",
        "from tensorflow.keras.preprocessing.sequence import pad_sequences\n",
        "from sklearn.model_selection import train_test_split\n",
        "from category_encoders import CatBoostEncoder"
      ],
      "metadata": {
        "id": "Ao6y_0G_aqL8"
      },
      "execution_count": null,
      "outputs": []
    },
    {
      "cell_type": "code",
      "source": [
        "# pip install keras"
      ],
      "metadata": {
        "id": "1eV_5lc2qyY2"
      },
      "execution_count": null,
      "outputs": []
    },
    {
      "cell_type": "code",
      "source": [
        "# pd.set_option('display.max_columns', None)\n",
        "# merged.drop(\"Unnamed: 0\", axis=1, inplace=True)"
      ],
      "metadata": {
        "id": "NdjmghEirAy6"
      },
      "execution_count": null,
      "outputs": []
    },
    {
      "cell_type": "code",
      "source": [],
      "metadata": {
        "colab": {
          "base_uri": "https://localhost:8080/"
        },
        "id": "TUiBKy6ps6HQ",
        "outputId": "a9f57dff-a3fe-44ee-bf8e-4aa15f51ee1d"
      },
      "execution_count": null,
      "outputs": [
        {
          "output_type": "stream",
          "name": "stdout",
          "text": [
            "Looking in indexes: https://pypi.org/simple, https://us-python.pkg.dev/colab-wheels/public/simple/\n",
            "Requirement already satisfied: keras in /usr/local/lib/python3.9/dist-packages (2.12.0)\n"
          ]
        }
      ]
    },
    {
      "cell_type": "markdown",
      "source": [
        "#TRAINING PIPELINE"
      ],
      "metadata": {
        "id": "jcV3w1F-tS0F"
      }
    },
    {
      "cell_type": "code",
      "source": [
        "# MY NEW DATA PREPARATION BASED ON ACCOUNT ID\n",
        "\n",
        "import numpy as np\n",
        "import pandas as pd\n",
        "import tensorflow as tf\n",
        "from sklearn.preprocessing import MinMaxScaler\n",
        "from sklearn.model_selection import train_test_split\n",
        "from category_encoders import CatBoostEncoder\n",
        "from tensorflow.keras.preprocessing.sequence import pad_sequences\n",
        "from tensorflow.keras.models import Sequential\n",
        "from tensorflow.keras.layers import LSTM, Dense\n",
        "from tensorflow.keras.utils import to_categorical\n",
        "\n",
        "data = merged.copy()\n",
        "\n",
        "cat_features = ['TRANSACTION_ID', 'USER_ID', 'BRANCH_CODE', 'PRODUCT_TYPE', 'PRODUCT_CODE', 'BRANCH_NAME', 'IS_HQ']\n",
        "encoder = CatBoostEncoder(cols=cat_features)\n",
        "y = y = data['Default']\n",
        "encoder.fit(data, y)\n",
        "data = encoder.transform(data)\n",
        "\n",
        "# Convert dates to ordinal values\n",
        "reference_date = pd.Timestamp('2000-01-01')\n",
        "data['VALUE_DATE'] = (pd.to_datetime(data['VALUE_DATE']) - reference_date).dt.days\n",
        "data['TRANSACTION_DATE'] = (pd.to_datetime(data['TRANSACTION_DATE']) - reference_date).dt.days\n",
        "\n",
        "# Your data preparation steps remain the same until you get the unique_account_ids\n",
        "input_timesteps = 5\n",
        "output_timestep = 1\n",
        "# Get the unique account IDs\n",
        "unique_account_ids = data['ACCOUNT_ID'].unique()\n",
        "\n",
        "sequence_lengths = data.groupby('ACCOUNT_ID').size()\n",
        "mask_less_than_5 = sequence_lengths[sequence_lengths < 5].index\n",
        "mask_greater_than_equal_5 = sequence_lengths[sequence_lengths >= 5].index\n",
        "\n",
        "# Split the account IDs into train and test sets\n",
        "train_account_ids, test_account_ids = train_test_split(unique_account_ids, test_size=0.20, random_state=42)\n",
        "\n",
        "# Create train and test datasets based on the account IDs\n",
        "train_data = data[data['ACCOUNT_ID'].isin(train_account_ids)]\n",
        "test_data = data[data['ACCOUNT_ID'].isin(test_account_ids)]\n",
        "\n",
        "# Padding and scaling for train and test datasets\n",
        "def pad_scale_data(data, account_ids, mask_less_than_5):\n",
        "    padded_data = []\n",
        "    \n",
        "    for account_id in account_ids:\n",
        "        account_data = data[data['ACCOUNT_ID'] == account_id].values\n",
        "        \n",
        "        if account_id in mask_less_than_5:\n",
        "            padded_account_data = pad_sequences([account_data], maxlen=5, dtype='float32', padding='post')[0]\n",
        "        else:\n",
        "            padded_account_data = account_data\n",
        "        \n",
        "        padded_data.append(padded_account_data)\n",
        "\n",
        "    return np.array(padded_data)\n",
        "\n",
        "train_padded_data = pad_scale_data(train_data, train_account_ids, mask_less_than_5)\n",
        "test_padded_data = pad_scale_data(test_data, test_account_ids, mask_less_than_5)\n",
        "\n",
        "# Prepare input and output data for train and test datasets\n",
        "def prepare_xy(padded_data):\n",
        "    x = []\n",
        "    y = []\n",
        "\n",
        "    for sequence in padded_data:\n",
        "        for i in range(len(sequence) - input_timesteps - output_timestep + 1):\n",
        "            x.append(sequence[i:i + input_timesteps, :-1])\n",
        "            y.append(sequence[i + input_timesteps, -1])\n",
        "\n",
        "    return np.array(x), np.array(y)\n",
        "\n",
        "X_train, y_train = prepare_xy(train_padded_data)\n",
        "X_test, y_test = prepare_xy(test_padded_data)\n"
      ],
      "metadata": {
        "colab": {
          "base_uri": "https://localhost:8080/"
        },
        "id": "DoehidJVoHi5",
        "outputId": "e6f30365-f367-4a25-f090-ed53229d32bd"
      },
      "execution_count": null,
      "outputs": [
        {
          "output_type": "stream",
          "name": "stderr",
          "text": [
            "<ipython-input-9-5706e7847357>:58: VisibleDeprecationWarning: Creating an ndarray from ragged nested sequences (which is a list-or-tuple of lists-or-tuples-or ndarrays with different lengths or shapes) is deprecated. If you meant to do this, you must specify 'dtype=object' when creating the ndarray.\n",
            "  return np.array(padded_data)\n"
          ]
        }
      ]
    },
    {
      "cell_type": "code",
      "source": [
        "# Flatten the time steps\n",
        "X_train_flattened = X_train.reshape(X_train.shape[0], -1)\n",
        "X_test_flattened = X_test.reshape(X_test.shape[0], -1)\n",
        "\n",
        "# Train a different model, e.g., XGBoost\n",
        "import xgboost as xgb\n",
        "\n",
        "# Calculate the ratio of negative class (0) to positive class (1)\n",
        "neg_count = np.sum(y_train == 0)\n",
        "pos_count = np.sum(y_train == 1)\n",
        "ratio = neg_count / pos_count\n",
        "\n",
        "\n",
        "model = xgb.XGBClassifier(scale_pos_weight=ratio, n_jobs=-1)\n",
        "model.fit(X_train_flattened, y_train)\n",
        "\n",
        "# Make predictions\n",
        "y_pred = model.predict(X_test_flattened)\n",
        "\n"
      ],
      "metadata": {
        "id": "QiTXURs88BEu"
      },
      "execution_count": null,
      "outputs": []
    },
    {
      "cell_type": "code",
      "source": [
        "len(x_test)"
      ],
      "metadata": {
        "id": "Wabsst0PTzob"
      },
      "execution_count": null,
      "outputs": []
    },
    {
      "cell_type": "code",
      "source": [
        "len(X_test_flattened)"
      ],
      "metadata": {
        "colab": {
          "base_uri": "https://localhost:8080/"
        },
        "id": "bSODNXr_Tifh",
        "outputId": "b4a585e2-bc88-4c67-f6fa-7bc5a2d0138c"
      },
      "execution_count": null,
      "outputs": [
        {
          "output_type": "execute_result",
          "data": {
            "text/plain": [
              "128786"
            ]
          },
          "metadata": {},
          "execution_count": 15
        }
      ]
    },
    {
      "cell_type": "code",
      "source": [
        "len(y_pred)"
      ],
      "metadata": {
        "colab": {
          "base_uri": "https://localhost:8080/"
        },
        "id": "aBcARnbCTFQI",
        "outputId": "72c36ff5-d655-4d01-c5a9-11c7adbfa77a"
      },
      "execution_count": null,
      "outputs": [
        {
          "output_type": "execute_result",
          "data": {
            "text/plain": [
              "128786"
            ]
          },
          "metadata": {},
          "execution_count": 13
        }
      ]
    },
    {
      "cell_type": "code",
      "source": [
        "from sklearn.metrics import accuracy_score, precision_score, recall_score, f1_score, roc_auc_score\n",
        "\n",
        "y_pred = model.predict(X_train_flattened)\n",
        "\n",
        "y_pred_proba = model.predict_proba(X_test_flattened)\n",
        "\n",
        "accuracy = accuracy_score(y_train, y_pred)\n",
        "precision = precision_score(y_train, y_pred)\n",
        "recall = recall_score(y_train, y_pred)\n",
        "f1 = f1_score(y_train, y_pred)\n",
        "# auc = roc_auc_score(y_test, np.argmax(y_pred_proba))\n",
        "\n",
        "print(\"Accuracy: \", accuracy)\n",
        "print(\"Precision: \", precision)\n",
        "print(\"Recall: \", recall)\n",
        "print(\"F1-score: \", f1)\n",
        "# print(\"AUC: \", auc)"
      ],
      "metadata": {
        "colab": {
          "base_uri": "https://localhost:8080/"
        },
        "id": "cONgoZ9O_p__",
        "outputId": "7ca1ceca-3a43-4be6-d653-2a6ec50ec8e6"
      },
      "execution_count": null,
      "outputs": [
        {
          "output_type": "stream",
          "name": "stdout",
          "text": [
            "Accuracy:  0.9652092884857074\n",
            "Precision:  0.7819657911143639\n",
            "Recall:  0.9716234422364433\n",
            "F1-score:  0.8665385019750379\n"
          ]
        }
      ]
    },
    {
      "cell_type": "code",
      "source": [
        "200 defaults"
      ],
      "metadata": {
        "id": "0rD7c1E1UxHq"
      },
      "execution_count": null,
      "outputs": []
    },
    {
      "cell_type": "code",
      "source": [
        "300 defaults- 194 were actual defaults--> recall 97% 194/200\n",
        "\n",
        "194/300"
      ],
      "metadata": {
        "id": "ITigbhQ-Uzb2"
      },
      "execution_count": null,
      "outputs": []
    },
    {
      "cell_type": "code",
      "source": [
        "model.predict(X_test_flattened[100:400])"
      ],
      "metadata": {
        "id": "o2UWfhr--jfJ"
      },
      "execution_count": null,
      "outputs": []
    },
    {
      "cell_type": "code",
      "source": [
        "X_train_flattened.shape"
      ],
      "metadata": {
        "colab": {
          "base_uri": "https://localhost:8080/"
        },
        "id": "g6eqJk2o-WXT",
        "outputId": "af43745e-331b-4481-d436-7275c705c301"
      },
      "execution_count": null,
      "outputs": [
        {
          "output_type": "execute_result",
          "data": {
            "text/plain": [
              "(510826, 145)"
            ]
          },
          "metadata": {},
          "execution_count": 29
        }
      ]
    },
    {
      "cell_type": "code",
      "source": [
        "X_train.shape"
      ],
      "metadata": {
        "colab": {
          "base_uri": "https://localhost:8080/"
        },
        "id": "phaaicnP-6z6",
        "outputId": "4ab705ab-494c-4744-af1d-3045922529ee"
      },
      "execution_count": null,
      "outputs": [
        {
          "output_type": "execute_result",
          "data": {
            "text/plain": [
              "(510826, 5, 29)"
            ]
          },
          "metadata": {},
          "execution_count": 36
        }
      ]
    },
    {
      "cell_type": "code",
      "source": [
        "len(np.where(y_pred==0)[0])"
      ],
      "metadata": {
        "colab": {
          "base_uri": "https://localhost:8080/"
        },
        "id": "-aTlnVUQ9y6E",
        "outputId": "d6b73b1a-ad25-43e6-f0e3-8156300b88dd"
      },
      "execution_count": null,
      "outputs": [
        {
          "output_type": "execute_result",
          "data": {
            "text/plain": [
              "110073"
            ]
          },
          "metadata": {},
          "execution_count": 28
        }
      ]
    },
    {
      "cell_type": "code",
      "source": [
        "import numpy as np\n",
        "from sklearn.metrics import accuracy_score\n",
        "\n",
        "# Assuming you have the probability_predictions from the previous example\n",
        "# and the true labels in y_test\n",
        "\n",
        "# Initialize variables to store the best threshold and the corresponding best accuracy\n",
        "best_threshold = 0.5\n",
        "best_accuracy = 0.0\n",
        "\n",
        "probability_predictions = model.predict(X_test)\n",
        "\n",
        "# Iterate over a range of threshold values\n",
        "thresholds = np.linspace(0, 1, num=101)  # Adjust the number of threshold values if needed\n",
        "for threshold in thresholds:\n",
        "    # Apply the threshold to the probability predictions\n",
        "    class_predictions = (probability_predictions > threshold).astype(int)\n",
        "\n",
        "    # Calculate the accuracy for the current threshold\n",
        "    accuracy = accuracy_score(y_test, class_predictions)\n",
        "\n",
        "    # Update the best threshold and best accuracy if the current accuracy is better\n",
        "    if accuracy > best_accuracy:\n",
        "        best_accuracy = accuracy\n",
        "        best_threshold = threshold\n",
        "\n",
        "# Print the best threshold and the corresponding best accuracy\n",
        "print(\"Best Threshold: {:.2f}\".format(best_threshold))\n",
        "print(\"Best Accuracy: {:.2f}\".format(best_accuracy))\n"
      ],
      "metadata": {
        "id": "Ow3gZ49ffKyv"
      },
      "execution_count": null,
      "outputs": []
    },
    {
      "cell_type": "code",
      "source": [
        "import numpy as np\n",
        "from sklearn.metrics import f1_score\n",
        "\n",
        "# Assuming you have the probability_predictions from the previous example\n",
        "# and the true labels in y_test\n",
        "\n",
        "# Initialize variables to store the best threshold and the corresponding best F1-score\n",
        "best_threshold = 0.5\n",
        "best_f1_score = 0.0\n",
        "\n",
        "# probability_predictions = model.predict(X_train)\n",
        "\n",
        "# Iterate over a range of threshold values\n",
        "thresholds = np.linspace(0, 1, num=101)  # Adjust the number of threshold values if needed\n",
        "for threshold in thresholds:\n",
        "    # Apply the threshold to the probability predictions\n",
        "    class_predictions = (probability_predictions > threshold).astype(int)\n",
        "\n",
        "    # Calculate the F1-score for the current threshold\n",
        "    # f1 = f1_score(y_train, class_predictions)\n",
        "    f1 = len\n",
        "\n",
        "    # Update the best threshold and best F1-score if the current F1-score is better\n",
        "    if f1 > best_f1_score:\n",
        "        best_f1_score = f1\n",
        "        best_threshold = threshold\n",
        "\n",
        "# Print the best threshold and the corresponding best F1-score\n",
        "print(\"Best Threshold: {:.2f}\".format(best_threshold))\n",
        "print(\"Best F1-score: {:.2f}\".format(best_f1_score))\n"
      ],
      "metadata": {
        "colab": {
          "base_uri": "https://localhost:8080/"
        },
        "id": "ISCby0h1gD4r",
        "outputId": "cbeb933d-e524-4f5f-f239-69edbc358da2"
      },
      "execution_count": null,
      "outputs": [
        {
          "output_type": "stream",
          "name": "stdout",
          "text": [
            "Best Threshold: 0.00\n",
            "Best F1-score: 0.11\n"
          ]
        }
      ]
    },
    {
      "cell_type": "code",
      "source": [
        "probability_predictions[:1]"
      ],
      "metadata": {
        "colab": {
          "base_uri": "https://localhost:8080/"
        },
        "id": "ii0nVyCVjJll",
        "outputId": "e32bbf7d-7174-4de5-8574-1fc6579b22ad"
      },
      "execution_count": null,
      "outputs": [
        {
          "output_type": "execute_result",
          "data": {
            "text/plain": [
              "array([[0.05806125]], dtype=float32)"
            ]
          },
          "metadata": {},
          "execution_count": 111
        }
      ]
    },
    {
      "cell_type": "code",
      "source": [
        "# len(np.where(probability_predictions == 0.05806125)[0])"
      ],
      "metadata": {
        "id": "l99XvbsAiDid"
      },
      "execution_count": null,
      "outputs": []
    },
    {
      "cell_type": "code",
      "source": [
        "# len(y_test==0)\n",
        "y_test[100:110]"
      ],
      "metadata": {
        "colab": {
          "base_uri": "https://localhost:8080/"
        },
        "id": "ZBfNGe4JXxZI",
        "outputId": "09dc37d9-1176-4208-a58c-18c4d93d0e06"
      },
      "execution_count": null,
      "outputs": [
        {
          "output_type": "execute_result",
          "data": {
            "text/plain": [
              "<tf.Tensor: shape=(10,), dtype=float32, numpy=array([0., 0., 1., 0., 0., 0., 0., 0., 0., 0.], dtype=float32)>"
            ]
          },
          "metadata": {},
          "execution_count": 42
        }
      ]
    },
    {
      "cell_type": "code",
      "source": [
        "predictions = model.predict(X_test)"
      ],
      "metadata": {
        "colab": {
          "base_uri": "https://localhost:8080/"
        },
        "id": "wcTYFYuriWw4",
        "outputId": "225adc6b-9614-4f1a-a6f1-c1f37fd62960"
      },
      "execution_count": null,
      "outputs": [
        {
          "output_type": "stream",
          "name": "stdout",
          "text": [
            "7996/7996 [==============================] - 25s 3ms/step\n"
          ]
        }
      ]
    },
    {
      "cell_type": "code",
      "source": [
        "len(predictions>0.5)"
      ],
      "metadata": {
        "colab": {
          "base_uri": "https://localhost:8080/"
        },
        "id": "21qZh4RkVovH",
        "outputId": "325be2a9-c198-45a1-d547-cae52715f6d7"
      },
      "execution_count": null,
      "outputs": [
        {
          "output_type": "execute_result",
          "data": {
            "text/plain": [
              "255845"
            ]
          },
          "metadata": {},
          "execution_count": 48
        }
      ]
    },
    {
      "cell_type": "code",
      "source": [
        "for i in range(len(predictions)):\n",
        "  if predictions[i][0] >= 0.07199801:\n",
        "    print(predictions[i][0])"
      ],
      "metadata": {
        "id": "i6pnVcIeYOrt"
      },
      "execution_count": null,
      "outputs": []
    },
    {
      "cell_type": "code",
      "source": [
        "pred = list(predictions)"
      ],
      "metadata": {
        "id": "hC1uiypgiWt7"
      },
      "execution_count": null,
      "outputs": []
    },
    {
      "cell_type": "code",
      "source": [
        "res = {}\n",
        "for i in range(len(pred)):\n",
        "  if not res.get(np.argmax(pred[i])):\n",
        "    res[np.argmax(pred[i])] = 1\n",
        "  else:\n",
        "    res[np.argmax(pred[i])] += 1"
      ],
      "metadata": {
        "id": "ucIB7jowjBvT"
      },
      "execution_count": null,
      "outputs": []
    },
    {
      "cell_type": "code",
      "source": [
        "res"
      ],
      "metadata": {
        "colab": {
          "base_uri": "https://localhost:8080/"
        },
        "id": "PTBGSDnayzm4",
        "outputId": "a0fa96b7-68a9-4d39-a85a-a7ec72c94e97"
      },
      "execution_count": null,
      "outputs": [
        {
          "output_type": "execute_result",
          "data": {
            "text/plain": [
              "{0: 5}"
            ]
          },
          "metadata": {},
          "execution_count": 17
        }
      ]
    },
    {
      "cell_type": "markdown",
      "source": [
        "#INFERENCE PIPELINE"
      ],
      "metadata": {
        "id": "INESCA7wASU1"
      }
    },
    {
      "cell_type": "code",
      "source": [
        "mimport numpy as np\n",
        "import pandas as pd\n",
        "from sklearn.preprocessing import MinMaxScaler\n",
        "from tensorflow.keras.preprocessing.sequence import pad_sequences\n",
        "from category_encoders import CatBoostEncoder\n",
        "from tensorflow.keras.models import load_model\n",
        "\n",
        "model = load_model('/content/drive/MyDrive/ARTHAN/my_model.h5')\n",
        "\n",
        "def preprocess_data(data, cat_features, columns_to_scale, encoder, scaler):\n",
        "    # Encode categorical features\n",
        "    data = encoder.transform(data)\n",
        "\n",
        "    # Convert dates to ordinal values\n",
        "    reference_date = pd.Timestamp('2000-01-01')\n",
        "    data['VALUE_DATE'] = (pd.to_datetime(data['VALUE_DATE']) - reference_date).dt.days\n",
        "    data['TRANSACTION_DATE'] = (pd.to_datetime(data['TRANSACTION_DATE']) - reference_date).dt.days\n",
        "\n",
        "    # Scale numerical features\n",
        "    scaled_data = data.copy()\n",
        "    scaled_data[columns_to_scale] = scaler.transform(scaled_data[columns_to_scale])\n",
        "\n",
        "    return scaled_data\n",
        "\n",
        "\n",
        "def prepare_input_sequences(data, unique_account_ids, maxlen=5):\n",
        "    padded_data = []\n",
        "    for account_id in unique_account_ids:\n",
        "        account_data = data[data['ACCOUNT_ID'] == account_id].values\n",
        "        \n",
        "        if len(account_data) < maxlen:\n",
        "            padded_account_data = pad_sequences([account_data], maxlen=maxlen, dtype='float32', padding='post')[0]\n",
        "        else:\n",
        "            padded_account_data = account_data\n",
        "        \n",
        "        padded_data.append(padded_account_data)\n",
        "\n",
        "    return np.array(padded_data)\n",
        "\n",
        "def predict_default(account_id, data, cat_features, columns_to_scale, encoder, scaler, model):\n",
        "    # Filter data by account_id\n",
        "    account_data = data[data['ACCOUNT_ID'] == account_id]\n",
        "\n",
        "    # Preprocess the account data\n",
        "    preprocessed_data = preprocess_data(account_data, cat_features, columns_to_scale, encoder, scaler)\n",
        "\n",
        "    # Pad the sequence if it has less than 5 entries\n",
        "    account_sequence = preprocessed_data.values\n",
        "    if len(account_sequence) < 5:\n",
        "        account_sequence = pad_sequences([account_sequence], maxlen=5, dtype='float32', padding='post')[0]\n",
        "\n",
        "    # Prepare the input data for the model by selecting the last 5 timesteps\n",
        "    input_data = account_sequence[-5:, :-1]\n",
        "\n",
        "    # Add an extra dimension to match the model's input shape (batch_size, timesteps, features)\n",
        "    # Add an extra dimension to match the model's input shape (batch_size, timesteps, features)\n",
        "    input_data = np.expand_dims(input_data, axis=0).astype('float32')\n",
        "\n",
        "\n",
        "    # Make a prediction using the model\n",
        "    prediction = model.predict(input_data)\n",
        "\n",
        "    # Return the class with the highest probability\n",
        "    return np.argmax(prediction)\n",
        "\n",
        "account_id = 30160400547\n",
        "prediction = predict_default(account_id, data, cat_features, columns_to_scale, encoder, scaler, model)\n",
        "print(f\"The predicted default status for account ID {account_id} is: {prediction}\")"
      ],
      "metadata": {
        "id": "PAV2FFwmtUB1",
        "colab": {
          "base_uri": "https://localhost:8080/"
        },
        "outputId": "c09d8c48-3a45-4f24-80bb-1b509d561bea"
      },
      "execution_count": null,
      "outputs": [
        {
          "output_type": "stream",
          "name": "stdout",
          "text": [
            "1/1 [==============================] - 1s 564ms/step\n",
            "The predicted default status for account ID 30160400547 is: 0\n"
          ]
        }
      ]
    },
    {
      "cell_type": "code",
      "source": [],
      "metadata": {
        "id": "ym1Vz7JgtT6b"
      },
      "execution_count": null,
      "outputs": []
    },
    {
      "cell_type": "code",
      "source": [],
      "metadata": {
        "id": "iGM_tfT2tT32"
      },
      "execution_count": null,
      "outputs": []
    }
  ]
}